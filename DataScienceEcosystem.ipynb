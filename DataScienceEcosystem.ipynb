{
 "cells": [
  {
   "cell_type": "markdown",
   "id": "90624c45-ec69-4e19-abb6-a74b71d96e3a",
   "metadata": {},
   "source": [
    "# Data Science Tools and Ecosystem"
   ]
  },
  {
   "cell_type": "markdown",
   "id": "52475fe6-7323-4b3a-8415-864c7d690084",
   "metadata": {},
   "source": [
    "## Data Science and Tools are Used for:\n",
    "#### Data Ingestion\n",
    "#### Data Visualization and Analysis\n",
    "#### Data Storage and Data Processing"
   ]
  },
  {
   "cell_type": "markdown",
   "id": "3e95e0da-ed8e-4b38-8760-a966464862a7",
   "metadata": {},
   "source": [
    "## Most Popular Data Science Tools Used:\n",
    "#### Python\n",
    "#### SQL\n",
    "#### RStudio"
   ]
  },
  {
   "cell_type": "markdown",
   "id": "a1f32a93-6260-4b73-8cfc-894785b4615b",
   "metadata": {},
   "source": [
    "## Most Commonly Data Science Libraries Used:\n",
    "#### Pandas \n",
    "#### Matplotlib\n",
    "#### Pytorch\n",
    "#### TensorFlow\n",
    "#### Scikit-Learn"
   ]
  },
  {
   "cell_type": "markdown",
   "id": "e1a3d672-5bcb-42f3-83ca-3f0cbc2638b7",
   "metadata": {},
   "source": [
    "##  Development environment open source tools"
   ]
  },
  {
   "cell_type": "markdown",
   "id": "9bd419f4-d9b7-4018-a77c-684b597b75cb",
   "metadata": {},
   "source": [
    "#### VS Code\n",
    "#### Tensorflow\n",
    "#### Git and GitHub"
   ]
  },
  {
   "cell_type": "markdown",
   "id": "1f53a064-79e8-4e20-82e4-3c50bc15dfe0",
   "metadata": {},
   "source": [
    "### Airthmetic Expression"
   ]
  },
  {
   "cell_type": "code",
   "execution_count": 1,
   "id": "84b93a77-5b52-4dd2-a15e-35ef603e7925",
   "metadata": {
    "tags": []
   },
   "outputs": [
    {
     "name": "stdout",
     "output_type": "stream",
     "text": [
      "a+b= 8\n"
     ]
    }
   ],
   "source": [
    "a=6\n",
    "b=2\n",
    "print(\"a+b=\",a+b)"
   ]
  },
  {
   "cell_type": "markdown",
   "id": "932d1b80-c99f-4401-9af1-7ca467e7514f",
   "metadata": {},
   "source": [
    "###  Multiplying and adding numbers"
   ]
  },
  {
   "cell_type": "code",
   "execution_count": 4,
   "id": "35294d01-3276-4f5b-8d44-ef2155a0187f",
   "metadata": {
    "tags": []
   },
   "outputs": [
    {
     "name": "stdout",
     "output_type": "stream",
     "text": [
      "(3*4)+5= 17\n"
     ]
    }
   ],
   "source": [
    "a=3\n",
    "b=4\n",
    "c=5\n",
    "print(\"(3*4)+5=\",(a*b)+c)"
   ]
  },
  {
   "cell_type": "markdown",
   "id": "c30e7593-73ec-43f5-9dce-c7d71f2b6d90",
   "metadata": {},
   "source": [
    "###  Convert minutes to hours"
   ]
  },
  {
   "cell_type": "code",
   "execution_count": 12,
   "id": "87ff9da4-5102-4874-9f69-5acc91032667",
   "metadata": {
    "tags": []
   },
   "outputs": [
    {
     "name": "stdin",
     "output_type": "stream",
     "text": [
      "Times in Mimutes: 200\n"
     ]
    },
    {
     "name": "stdout",
     "output_type": "stream",
     "text": [
      "Times in Hours= 3.3333333333333335 hrs\n"
     ]
    }
   ],
   "source": [
    "minutes=int(input(\"Times in Mimutes:\"))\n",
    "print(\"Times in Hours=\",minutes/60,\"hrs\")"
   ]
  },
  {
   "cell_type": "markdown",
   "id": "7c279362-3397-41e6-8d0a-16ef05f1421e",
   "metadata": {},
   "source": [
    "## Objectives:"
   ]
  },
  {
   "cell_type": "markdown",
   "id": "077db216-f1bf-46a6-af30-d8fb2ece96ef",
   "metadata": {},
   "source": [
    "### Topic Covered in this Notebook:\n",
    "##### Most Popular Data Science Tools Used\n",
    "##### Open Source Tools for Data Science\n",
    "##### Popular Language Used in Data Science\n",
    "##### Airthmetic Calculation"
   ]
  },
  {
   "cell_type": "markdown",
   "id": "75bda8ce-5997-4dc0-9ae0-a67566ffe110",
   "metadata": {},
   "source": [
    "## Author's Name\n",
    "### Hasrat Ali\n",
    "#### Learning Data Science"
   ]
  },
  {
   "cell_type": "code",
   "execution_count": null,
   "id": "7e3d06b3-17f3-4c67-8079-4e4d441cf528",
   "metadata": {},
   "outputs": [],
   "source": []
  }
 ],
 "metadata": {
  "kernelspec": {
   "display_name": "Python 3 (ipykernel)",
   "language": "python",
   "name": "python3"
  },
  "language_info": {
   "codemirror_mode": {
    "name": "ipython",
    "version": 3
   },
   "file_extension": ".py",
   "mimetype": "text/x-python",
   "name": "python",
   "nbconvert_exporter": "python",
   "pygments_lexer": "ipython3",
   "version": "3.11.2"
  }
 },
 "nbformat": 4,
 "nbformat_minor": 5
}
